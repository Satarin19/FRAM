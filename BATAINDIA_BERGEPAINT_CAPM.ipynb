{
  "cells": [
    {
      "cell_type": "code",
      "execution_count": null,
      "metadata": {
        "id": "ewuYkBVU4KbR"
      },
      "outputs": [],
      "source": [
        "import pandas as pd\n",
        "import pandas_datareader.data as reader\n",
        "import datetime as dt\n",
        "import statsmodels.api as sm\n",
        "import matplotlib.pyplot as plt\n",
        "import getFamaFrenchFactors as gff\n",
        "import seaborn as sns"
      ]
    },
    {
      "cell_type": "markdown",
      "metadata": {
        "id": "qaUn6kUT4KbT"
      },
      "source": [
        "Let rf be the risk free rate"
      ]
    },
    {
      "cell_type": "markdown",
      "metadata": {
        "id": "_SDIGorD4KbU"
      },
      "source": [
        "For CAPM we know:\n",
        "\n",
        "\n",
        "\n",
        "![capital_asset_pricing_model.svg](data:image/svg+xml;base64,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)"
      ]
    },
    {
      "cell_type": "markdown",
      "metadata": {
        "id": "lsgLzrrM4KbV"
      },
      "source": [
        "Now we define the timeframe "
      ]
    },
    {
      "cell_type": "code",
      "execution_count": null,
      "metadata": {
        "id": "3qbXJrMP4KbV",
        "outputId": "72033334-0e08-4ffb-ebae-53f975aaa088"
      },
      "outputs": [
        {
          "data": {
            "text/html": [
              "<div>\n",
              "<style scoped>\n",
              "    .dataframe tbody tr th:only-of-type {\n",
              "        vertical-align: middle;\n",
              "    }\n",
              "\n",
              "    .dataframe tbody tr th {\n",
              "        vertical-align: top;\n",
              "    }\n",
              "\n",
              "    .dataframe thead th {\n",
              "        text-align: right;\n",
              "    }\n",
              "</style>\n",
              "<table border=\"1\" class=\"dataframe\">\n",
              "  <thead>\n",
              "    <tr style=\"text-align: right;\">\n",
              "      <th>Symbols</th>\n",
              "      <th>BATAINDIA.NS</th>\n",
              "      <th>^NSEI</th>\n",
              "    </tr>\n",
              "    <tr>\n",
              "      <th>Date</th>\n",
              "      <th></th>\n",
              "      <th></th>\n",
              "    </tr>\n",
              "  </thead>\n",
              "  <tbody>\n",
              "    <tr>\n",
              "      <th>2020-04-01</th>\n",
              "      <td>1142.913696</td>\n",
              "      <td>8253.799805</td>\n",
              "    </tr>\n",
              "    <tr>\n",
              "      <th>2020-04-03</th>\n",
              "      <td>1143.922363</td>\n",
              "      <td>8083.799805</td>\n",
              "    </tr>\n",
              "    <tr>\n",
              "      <th>2020-04-07</th>\n",
              "      <td>1197.384033</td>\n",
              "      <td>8792.200195</td>\n",
              "    </tr>\n",
              "    <tr>\n",
              "      <th>2020-04-08</th>\n",
              "      <td>1191.283691</td>\n",
              "      <td>8748.750000</td>\n",
              "    </tr>\n",
              "    <tr>\n",
              "      <th>2020-04-09</th>\n",
              "      <td>1193.589233</td>\n",
              "      <td>9111.900391</td>\n",
              "    </tr>\n",
              "  </tbody>\n",
              "</table>\n",
              "</div>"
            ],
            "text/plain": [
              "Symbols     BATAINDIA.NS        ^NSEI\n",
              "Date                                 \n",
              "2020-04-01   1142.913696  8253.799805\n",
              "2020-04-03   1143.922363  8083.799805\n",
              "2020-04-07   1197.384033  8792.200195\n",
              "2020-04-08   1191.283691  8748.750000\n",
              "2020-04-09   1193.589233  9111.900391"
            ]
          },
          "execution_count": 2,
          "metadata": {},
          "output_type": "execute_result"
        }
      ],
      "source": [
        "BATAINDIA_daily = reader.DataReader(['BATAINDIA.NS','^NSEI'],'yahoo', start= '2020-4-1', end=  '2022-3-31')['Adj Close']\n",
        "BATAINDIA_daily.head()"
      ]
    },
    {
      "cell_type": "code",
      "execution_count": null,
      "metadata": {
        "id": "cg35i9ZJ4KbW",
        "outputId": "392eea1c-92bd-4c13-a709-69ebc759df4f"
      },
      "outputs": [
        {
          "data": {
            "text/html": [
              "<div>\n",
              "<style scoped>\n",
              "    .dataframe tbody tr th:only-of-type {\n",
              "        vertical-align: middle;\n",
              "    }\n",
              "\n",
              "    .dataframe tbody tr th {\n",
              "        vertical-align: top;\n",
              "    }\n",
              "\n",
              "    .dataframe thead th {\n",
              "        text-align: right;\n",
              "    }\n",
              "</style>\n",
              "<table border=\"1\" class=\"dataframe\">\n",
              "  <thead>\n",
              "    <tr style=\"text-align: right;\">\n",
              "      <th>Symbols</th>\n",
              "      <th>BERGEPAINT.NS</th>\n",
              "      <th>^NSEI</th>\n",
              "    </tr>\n",
              "    <tr>\n",
              "      <th>Date</th>\n",
              "      <th></th>\n",
              "      <th></th>\n",
              "    </tr>\n",
              "  </thead>\n",
              "  <tbody>\n",
              "    <tr>\n",
              "      <th>2020-04-01</th>\n",
              "      <td>479.424316</td>\n",
              "      <td>8253.799805</td>\n",
              "    </tr>\n",
              "    <tr>\n",
              "      <th>2020-04-03</th>\n",
              "      <td>444.914062</td>\n",
              "      <td>8083.799805</td>\n",
              "    </tr>\n",
              "    <tr>\n",
              "      <th>2020-04-07</th>\n",
              "      <td>475.209717</td>\n",
              "      <td>8792.200195</td>\n",
              "    </tr>\n",
              "    <tr>\n",
              "      <th>2020-04-08</th>\n",
              "      <td>459.640442</td>\n",
              "      <td>8748.750000</td>\n",
              "    </tr>\n",
              "    <tr>\n",
              "      <th>2020-04-09</th>\n",
              "      <td>470.350464</td>\n",
              "      <td>9111.900391</td>\n",
              "    </tr>\n",
              "  </tbody>\n",
              "</table>\n",
              "</div>"
            ],
            "text/plain": [
              "Symbols     BERGEPAINT.NS        ^NSEI\n",
              "Date                                  \n",
              "2020-04-01     479.424316  8253.799805\n",
              "2020-04-03     444.914062  8083.799805\n",
              "2020-04-07     475.209717  8792.200195\n",
              "2020-04-08     459.640442  8748.750000\n",
              "2020-04-09     470.350464  9111.900391"
            ]
          },
          "execution_count": 3,
          "metadata": {},
          "output_type": "execute_result"
        }
      ],
      "source": [
        "BERGEPAINT_daily = reader.DataReader(['BERGEPAINT.NS','^NSEI'], 'yahoo', start = '2020-4-1', end = '2022-3-31')['Adj Close']\n",
        "BERGEPAINT_daily.head()"
      ]
    },
    {
      "cell_type": "code",
      "execution_count": null,
      "metadata": {
        "id": "wBi8TY5f4KbX",
        "outputId": "993d9bce-3733-4a5c-d2db-b6142c6898bf"
      },
      "outputs": [
        {
          "data": {
            "text/html": [
              "<div>\n",
              "<style scoped>\n",
              "    .dataframe tbody tr th:only-of-type {\n",
              "        vertical-align: middle;\n",
              "    }\n",
              "\n",
              "    .dataframe tbody tr th {\n",
              "        vertical-align: top;\n",
              "    }\n",
              "\n",
              "    .dataframe thead th {\n",
              "        text-align: right;\n",
              "    }\n",
              "</style>\n",
              "<table border=\"1\" class=\"dataframe\">\n",
              "  <thead>\n",
              "    <tr style=\"text-align: right;\">\n",
              "      <th>Symbols</th>\n",
              "      <th>BATAINDIA.NS</th>\n",
              "      <th>^NSEI</th>\n",
              "    </tr>\n",
              "    <tr>\n",
              "      <th>Date</th>\n",
              "      <th></th>\n",
              "      <th></th>\n",
              "    </tr>\n",
              "  </thead>\n",
              "  <tbody>\n",
              "    <tr>\n",
              "      <th>2020-05-31</th>\n",
              "      <td>-0.028971</td>\n",
              "      <td>-0.028357</td>\n",
              "    </tr>\n",
              "    <tr>\n",
              "      <th>2020-06-30</th>\n",
              "      <td>-0.014635</td>\n",
              "      <td>0.075342</td>\n",
              "    </tr>\n",
              "    <tr>\n",
              "      <th>2020-07-31</th>\n",
              "      <td>-0.019981</td>\n",
              "      <td>0.074873</td>\n",
              "    </tr>\n",
              "    <tr>\n",
              "      <th>2020-08-31</th>\n",
              "      <td>0.024447</td>\n",
              "      <td>0.028361</td>\n",
              "    </tr>\n",
              "    <tr>\n",
              "      <th>2020-09-30</th>\n",
              "      <td>0.014857</td>\n",
              "      <td>-0.012290</td>\n",
              "    </tr>\n",
              "  </tbody>\n",
              "</table>\n",
              "</div>"
            ],
            "text/plain": [
              "Symbols     BATAINDIA.NS     ^NSEI\n",
              "Date                              \n",
              "2020-05-31     -0.028971 -0.028357\n",
              "2020-06-30     -0.014635  0.075342\n",
              "2020-07-31     -0.019981  0.074873\n",
              "2020-08-31      0.024447  0.028361\n",
              "2020-09-30      0.014857 -0.012290"
            ]
          },
          "execution_count": 4,
          "metadata": {},
          "output_type": "execute_result"
        }
      ],
      "source": [
        "mtl_ret_BATA_NSE = BATAINDIA_daily.resample('M').ffill().pct_change()\n",
        "mtl_ret_BATA_NSE= mtl_ret_BATA_NSE.dropna(axis = 0)\n",
        "mtl_ret_BATA_NSE.head()"
      ]
    },
    {
      "cell_type": "code",
      "execution_count": null,
      "metadata": {
        "id": "La5hJiKr4KbY",
        "outputId": "4181d59e-e9fe-4cd9-d86a-c0a89bbebac2"
      },
      "outputs": [
        {
          "data": {
            "text/html": [
              "<div>\n",
              "<style scoped>\n",
              "    .dataframe tbody tr th:only-of-type {\n",
              "        vertical-align: middle;\n",
              "    }\n",
              "\n",
              "    .dataframe tbody tr th {\n",
              "        vertical-align: top;\n",
              "    }\n",
              "\n",
              "    .dataframe thead th {\n",
              "        text-align: right;\n",
              "    }\n",
              "</style>\n",
              "<table border=\"1\" class=\"dataframe\">\n",
              "  <thead>\n",
              "    <tr style=\"text-align: right;\">\n",
              "      <th>Symbols</th>\n",
              "      <th>BERGEPAINT.NS</th>\n",
              "      <th>^NSEI</th>\n",
              "    </tr>\n",
              "    <tr>\n",
              "      <th>Date</th>\n",
              "      <th></th>\n",
              "      <th></th>\n",
              "    </tr>\n",
              "  </thead>\n",
              "  <tbody>\n",
              "    <tr>\n",
              "      <th>2020-05-31</th>\n",
              "      <td>-0.032750</td>\n",
              "      <td>-0.028357</td>\n",
              "    </tr>\n",
              "    <tr>\n",
              "      <th>2020-06-30</th>\n",
              "      <td>0.004372</td>\n",
              "      <td>0.075342</td>\n",
              "    </tr>\n",
              "    <tr>\n",
              "      <th>2020-07-31</th>\n",
              "      <td>0.066005</td>\n",
              "      <td>0.074873</td>\n",
              "    </tr>\n",
              "    <tr>\n",
              "      <th>2020-08-31</th>\n",
              "      <td>0.021273</td>\n",
              "      <td>0.028361</td>\n",
              "    </tr>\n",
              "    <tr>\n",
              "      <th>2020-09-30</th>\n",
              "      <td>0.086107</td>\n",
              "      <td>-0.012290</td>\n",
              "    </tr>\n",
              "  </tbody>\n",
              "</table>\n",
              "</div>"
            ],
            "text/plain": [
              "Symbols     BERGEPAINT.NS     ^NSEI\n",
              "Date                               \n",
              "2020-05-31      -0.032750 -0.028357\n",
              "2020-06-30       0.004372  0.075342\n",
              "2020-07-31       0.066005  0.074873\n",
              "2020-08-31       0.021273  0.028361\n",
              "2020-09-30       0.086107 -0.012290"
            ]
          },
          "execution_count": 5,
          "metadata": {},
          "output_type": "execute_result"
        }
      ],
      "source": [
        "mtl_ret_BERGEPAINT_NSE = BERGEPAINT_daily.resample('M').ffill().pct_change()\n",
        "mtl_ret_BERGEPAINT_NSE = mtl_ret_BERGEPAINT_NSE.dropna(axis = 0)\n",
        "mtl_ret_BERGEPAINT_NSE.head()"
      ]
    },
    {
      "cell_type": "code",
      "execution_count": null,
      "metadata": {
        "id": "ESRhXw1z4KbY"
      },
      "outputs": [],
      "source": [
        "X1 = mtl_ret_BATA_NSE['^NSEI']\n",
        "y1 = mtl_ret_BATA_NSE['BATAINDIA.NS']\n",
        "X1_sm = sm.add_constant(X1)"
      ]
    },
    {
      "cell_type": "code",
      "execution_count": null,
      "metadata": {
        "id": "V23Qoor84KbZ"
      },
      "outputs": [],
      "source": [
        "model1 = sm.OLS(y1, X1_sm)"
      ]
    },
    {
      "cell_type": "code",
      "execution_count": null,
      "metadata": {
        "id": "vURY8ylk4KbZ"
      },
      "outputs": [],
      "source": [
        "results = model1.fit()"
      ]
    },
    {
      "cell_type": "code",
      "execution_count": null,
      "metadata": {
        "id": "cKCAOmp-4Kba",
        "outputId": "64a9b9cb-0519-4af9-c57d-c428c920f586"
      },
      "outputs": [
        {
          "data": {
            "text/html": [
              "<table class=\"simpletable\">\n",
              "<caption>OLS Regression Results</caption>\n",
              "<tr>\n",
              "  <th>Dep. Variable:</th>      <td>BATAINDIA.NS</td>   <th>  R-squared:         </th> <td>   0.272</td>\n",
              "</tr>\n",
              "<tr>\n",
              "  <th>Model:</th>                   <td>OLS</td>       <th>  Adj. R-squared:    </th> <td>   0.238</td>\n",
              "</tr>\n",
              "<tr>\n",
              "  <th>Method:</th>             <td>Least Squares</td>  <th>  F-statistic:       </th> <td>   7.859</td>\n",
              "</tr>\n",
              "<tr>\n",
              "  <th>Date:</th>             <td>Mon, 22 Aug 2022</td> <th>  Prob (F-statistic):</th>  <td>0.0106</td> \n",
              "</tr>\n",
              "<tr>\n",
              "  <th>Time:</th>                 <td>14:53:07</td>     <th>  Log-Likelihood:    </th> <td>  32.006</td>\n",
              "</tr>\n",
              "<tr>\n",
              "  <th>No. Observations:</th>      <td>    23</td>      <th>  AIC:               </th> <td>  -60.01</td>\n",
              "</tr>\n",
              "<tr>\n",
              "  <th>Df Residuals:</th>          <td>    21</td>      <th>  BIC:               </th> <td>  -57.74</td>\n",
              "</tr>\n",
              "<tr>\n",
              "  <th>Df Model:</th>              <td>     1</td>      <th>                     </th>     <td> </td>   \n",
              "</tr>\n",
              "<tr>\n",
              "  <th>Covariance Type:</th>      <td>nonrobust</td>    <th>                     </th>     <td> </td>   \n",
              "</tr>\n",
              "</table>\n",
              "<table class=\"simpletable\">\n",
              "<tr>\n",
              "    <td></td>       <th>coef</th>     <th>std err</th>      <th>t</th>      <th>P>|t|</th>  <th>[0.025</th>    <th>0.975]</th>  \n",
              "</tr>\n",
              "<tr>\n",
              "  <th>const</th> <td>   -0.0040</td> <td>    0.015</td> <td>   -0.261</td> <td> 0.797</td> <td>   -0.036</td> <td>    0.028</td>\n",
              "</tr>\n",
              "<tr>\n",
              "  <th>^NSEI</th> <td>    0.8815</td> <td>    0.314</td> <td>    2.803</td> <td> 0.011</td> <td>    0.228</td> <td>    1.535</td>\n",
              "</tr>\n",
              "</table>\n",
              "<table class=\"simpletable\">\n",
              "<tr>\n",
              "  <th>Omnibus:</th>       <td> 0.757</td> <th>  Durbin-Watson:     </th> <td>   2.344</td>\n",
              "</tr>\n",
              "<tr>\n",
              "  <th>Prob(Omnibus):</th> <td> 0.685</td> <th>  Jarque-Bera (JB):  </th> <td>   0.795</td>\n",
              "</tr>\n",
              "<tr>\n",
              "  <th>Skew:</th>          <td> 0.311</td> <th>  Prob(JB):          </th> <td>   0.672</td>\n",
              "</tr>\n",
              "<tr>\n",
              "  <th>Kurtosis:</th>      <td> 2.334</td> <th>  Cond. No.          </th> <td>    24.0</td>\n",
              "</tr>\n",
              "</table><br/><br/>Notes:<br/>[1] Standard Errors assume that the covariance matrix of the errors is correctly specified."
            ],
            "text/plain": [
              "<class 'statsmodels.iolib.summary.Summary'>\n",
              "\"\"\"\n",
              "                            OLS Regression Results                            \n",
              "==============================================================================\n",
              "Dep. Variable:           BATAINDIA.NS   R-squared:                       0.272\n",
              "Model:                            OLS   Adj. R-squared:                  0.238\n",
              "Method:                 Least Squares   F-statistic:                     7.859\n",
              "Date:                Mon, 22 Aug 2022   Prob (F-statistic):             0.0106\n",
              "Time:                        14:53:07   Log-Likelihood:                 32.006\n",
              "No. Observations:                  23   AIC:                            -60.01\n",
              "Df Residuals:                      21   BIC:                            -57.74\n",
              "Df Model:                           1                                         \n",
              "Covariance Type:            nonrobust                                         \n",
              "==============================================================================\n",
              "                 coef    std err          t      P>|t|      [0.025      0.975]\n",
              "------------------------------------------------------------------------------\n",
              "const         -0.0040      0.015     -0.261      0.797      -0.036       0.028\n",
              "^NSEI          0.8815      0.314      2.803      0.011       0.228       1.535\n",
              "==============================================================================\n",
              "Omnibus:                        0.757   Durbin-Watson:                   2.344\n",
              "Prob(Omnibus):                  0.685   Jarque-Bera (JB):                0.795\n",
              "Skew:                           0.311   Prob(JB):                        0.672\n",
              "Kurtosis:                       2.334   Cond. No.                         24.0\n",
              "==============================================================================\n",
              "\n",
              "Notes:\n",
              "[1] Standard Errors assume that the covariance matrix of the errors is correctly specified.\n",
              "\"\"\""
            ]
          },
          "execution_count": 9,
          "metadata": {},
          "output_type": "execute_result"
        }
      ],
      "source": [
        "results.summary()"
      ]
    },
    {
      "cell_type": "code",
      "execution_count": null,
      "metadata": {
        "id": "OIiEg-mW4Kba",
        "outputId": "14107585-a9f1-4c72-d0be-1872700d0ab4"
      },
      "outputs": [
        {
          "data": {
            "image/png": "[encoded data removed]",
            "text/plain": [
              "<Figure size 432x288 with 1 Axes>"
            ]
          },
          "metadata": {
            "needs_background": "light"
          },
          "output_type": "display_data"
        }
      ],
      "source": [
        "sns.regplot(x = '^NSEI', y = 'BATAINDIA.NS', data = mtl_ret_BATA_NSE)\n",
        "plt.show()"
      ]
    },
    {
      "cell_type": "markdown",
      "metadata": {
        "id": "Li3cSpxl4Kba"
      },
      "source": [
        "Now performing with the risk free rate"
      ]
    },
    {
      "cell_type": "code",
      "execution_count": null,
      "metadata": {
        "id": "12zUIHxH4Kbb"
      },
      "outputs": [],
      "source": [
        "rf = reader.DataReader('F-F_Research_Data_Factors','famafrench', '2020-4-1', '2022-3-31')[0].RF"
      ]
    },
    {
      "cell_type": "code",
      "execution_count": null,
      "metadata": {
        "id": "fHg8pN9v4Kbb"
      },
      "outputs": [],
      "source": [
        "rf= rf[1:]"
      ]
    },
    {
      "cell_type": "code",
      "execution_count": null,
      "metadata": {
        "id": "RUDoZgMJ4Kbb"
      },
      "outputs": [],
      "source": [
        "mtl_ret_BATA_NSE['BATAINDIA.NS-rf'], mtl_ret_BATA_NSE['^NSEI-rf'] = mtl_ret_BATA_NSE['BATAINDIA.NS']- rf.values, mtl_ret_BATA_NSE['^NSEI'] - rf.values"
      ]
    },
    {
      "cell_type": "code",
      "execution_count": null,
      "metadata": {
        "id": "q5qTnkeV4Kbb",
        "outputId": "0d5683b4-b0a2-475c-8953-ba844eaac4ef"
      },
      "outputs": [
        {
          "data": {
            "text/html": [
              "<div>\n",
              "<style scoped>\n",
              "    .dataframe tbody tr th:only-of-type {\n",
              "        vertical-align: middle;\n",
              "    }\n",
              "\n",
              "    .dataframe tbody tr th {\n",
              "        vertical-align: top;\n",
              "    }\n",
              "\n",
              "    .dataframe thead th {\n",
              "        text-align: right;\n",
              "    }\n",
              "</style>\n",
              "<table border=\"1\" class=\"dataframe\">\n",
              "  <thead>\n",
              "    <tr style=\"text-align: right;\">\n",
              "      <th>Symbols</th>\n",
              "      <th>BATAINDIA.NS</th>\n",
              "      <th>^NSEI</th>\n",
              "      <th>BATAINDIA.NS-rf</th>\n",
              "      <th>^NSEI-rf</th>\n",
              "    </tr>\n",
              "    <tr>\n",
              "      <th>Date</th>\n",
              "      <th></th>\n",
              "      <th></th>\n",
              "      <th></th>\n",
              "      <th></th>\n",
              "    </tr>\n",
              "  </thead>\n",
              "  <tbody>\n",
              "    <tr>\n",
              "      <th>2020-05-31</th>\n",
              "      <td>-0.028971</td>\n",
              "      <td>-0.028357</td>\n",
              "      <td>-0.038971</td>\n",
              "      <td>-0.038357</td>\n",
              "    </tr>\n",
              "    <tr>\n",
              "      <th>2020-06-30</th>\n",
              "      <td>-0.014635</td>\n",
              "      <td>0.075342</td>\n",
              "      <td>-0.024635</td>\n",
              "      <td>0.065342</td>\n",
              "    </tr>\n",
              "    <tr>\n",
              "      <th>2020-07-31</th>\n",
              "      <td>-0.019981</td>\n",
              "      <td>0.074873</td>\n",
              "      <td>-0.029981</td>\n",
              "      <td>0.064873</td>\n",
              "    </tr>\n",
              "    <tr>\n",
              "      <th>2020-08-31</th>\n",
              "      <td>0.024447</td>\n",
              "      <td>0.028361</td>\n",
              "      <td>0.014447</td>\n",
              "      <td>0.018361</td>\n",
              "    </tr>\n",
              "    <tr>\n",
              "      <th>2020-09-30</th>\n",
              "      <td>0.014857</td>\n",
              "      <td>-0.012290</td>\n",
              "      <td>0.004857</td>\n",
              "      <td>-0.022290</td>\n",
              "    </tr>\n",
              "  </tbody>\n",
              "</table>\n",
              "</div>"
            ],
            "text/plain": [
              "Symbols     BATAINDIA.NS     ^NSEI  BATAINDIA.NS-rf  ^NSEI-rf\n",
              "Date                                                         \n",
              "2020-05-31     -0.028971 -0.028357        -0.038971 -0.038357\n",
              "2020-06-30     -0.014635  0.075342        -0.024635  0.065342\n",
              "2020-07-31     -0.019981  0.074873        -0.029981  0.064873\n",
              "2020-08-31      0.024447  0.028361         0.014447  0.018361\n",
              "2020-09-30      0.014857 -0.012290         0.004857 -0.022290"
            ]
          },
          "execution_count": 14,
          "metadata": {},
          "output_type": "execute_result"
        }
      ],
      "source": [
        "mtl_ret_BATA_NSE.head()"
      ]
    },
    {
      "cell_type": "code",
      "execution_count": null,
      "metadata": {
        "id": "q3yT97wL4Kbb"
      },
      "outputs": [],
      "source": [
        "X1 = mtl_ret_BATA_NSE['^NSEI-rf']\n",
        "y1 = mtl_ret_BATA_NSE['BATAINDIA.NS-rf']\n",
        "X1_sm = sm.add_constant(X1)"
      ]
    },
    {
      "cell_type": "code",
      "execution_count": null,
      "metadata": {
        "id": "dv5bL8cn4Kbc"
      },
      "outputs": [],
      "source": [
        "model1 = sm.OLS(y1, X1_sm)"
      ]
    },
    {
      "cell_type": "code",
      "execution_count": null,
      "metadata": {
        "id": "HbSL-Kwo4Kbc"
      },
      "outputs": [],
      "source": [
        "results = model1.fit()"
      ]
    },
    {
      "cell_type": "code",
      "execution_count": null,
      "metadata": {
        "id": "xqbzZxvL4Kbc",
        "outputId": "8feab119-7b6f-494a-df34-ce3fb720fbb7"
      },
      "outputs": [
        {
          "data": {
            "text/html": [
              "<table class=\"simpletable\">\n",
              "<caption>OLS Regression Results</caption>\n",
              "<tr>\n",
              "  <th>Dep. Variable:</th>     <td>BATAINDIA.NS-rf</td> <th>  R-squared:         </th> <td>   0.275</td>\n",
              "</tr>\n",
              "<tr>\n",
              "  <th>Model:</th>                   <td>OLS</td>       <th>  Adj. R-squared:    </th> <td>   0.240</td>\n",
              "</tr>\n",
              "<tr>\n",
              "  <th>Method:</th>             <td>Least Squares</td>  <th>  F-statistic:       </th> <td>   7.948</td>\n",
              "</tr>\n",
              "<tr>\n",
              "  <th>Date:</th>             <td>Mon, 22 Aug 2022</td> <th>  Prob (F-statistic):</th>  <td>0.0103</td> \n",
              "</tr>\n",
              "<tr>\n",
              "  <th>Time:</th>                 <td>14:53:09</td>     <th>  Log-Likelihood:    </th> <td>  31.974</td>\n",
              "</tr>\n",
              "<tr>\n",
              "  <th>No. Observations:</th>      <td>    23</td>      <th>  AIC:               </th> <td>  -59.95</td>\n",
              "</tr>\n",
              "<tr>\n",
              "  <th>Df Residuals:</th>          <td>    21</td>      <th>  BIC:               </th> <td>  -57.68</td>\n",
              "</tr>\n",
              "<tr>\n",
              "  <th>Df Model:</th>              <td>     1</td>      <th>                     </th>     <td> </td>   \n",
              "</tr>\n",
              "<tr>\n",
              "  <th>Covariance Type:</th>      <td>nonrobust</td>    <th>                     </th>     <td> </td>   \n",
              "</tr>\n",
              "</table>\n",
              "<table class=\"simpletable\">\n",
              "<tr>\n",
              "      <td></td>        <th>coef</th>     <th>std err</th>      <th>t</th>      <th>P>|t|</th>  <th>[0.025</th>    <th>0.975]</th>  \n",
              "</tr>\n",
              "<tr>\n",
              "  <th>const</th>    <td>   -0.0052</td> <td>    0.015</td> <td>   -0.348</td> <td> 0.731</td> <td>   -0.036</td> <td>    0.026</td>\n",
              "</tr>\n",
              "<tr>\n",
              "  <th>^NSEI-rf</th> <td>    0.9077</td> <td>    0.322</td> <td>    2.819</td> <td> 0.010</td> <td>    0.238</td> <td>    1.577</td>\n",
              "</tr>\n",
              "</table>\n",
              "<table class=\"simpletable\">\n",
              "<tr>\n",
              "  <th>Omnibus:</th>       <td> 0.698</td> <th>  Durbin-Watson:     </th> <td>   2.328</td>\n",
              "</tr>\n",
              "<tr>\n",
              "  <th>Prob(Omnibus):</th> <td> 0.705</td> <th>  Jarque-Bera (JB):  </th> <td>   0.753</td>\n",
              "</tr>\n",
              "<tr>\n",
              "  <th>Skew:</th>          <td> 0.295</td> <th>  Prob(JB):          </th> <td>   0.686</td>\n",
              "</tr>\n",
              "<tr>\n",
              "  <th>Kurtosis:</th>      <td> 2.337</td> <th>  Cond. No.          </th> <td>    24.5</td>\n",
              "</tr>\n",
              "</table><br/><br/>Notes:<br/>[1] Standard Errors assume that the covariance matrix of the errors is correctly specified."
            ],
            "text/plain": [
              "<class 'statsmodels.iolib.summary.Summary'>\n",
              "\"\"\"\n",
              "                            OLS Regression Results                            \n",
              "==============================================================================\n",
              "Dep. Variable:        BATAINDIA.NS-rf   R-squared:                       0.275\n",
              "Model:                            OLS   Adj. R-squared:                  0.240\n",
              "Method:                 Least Squares   F-statistic:                     7.948\n",
              "Date:                Mon, 22 Aug 2022   Prob (F-statistic):             0.0103\n",
              "Time:                        14:53:09   Log-Likelihood:                 31.974\n",
              "No. Observations:                  23   AIC:                            -59.95\n",
              "Df Residuals:                      21   BIC:                            -57.68\n",
              "Df Model:                           1                                         \n",
              "Covariance Type:            nonrobust                                         \n",
              "==============================================================================\n",
              "                 coef    std err          t      P>|t|      [0.025      0.975]\n",
              "------------------------------------------------------------------------------\n",
              "const         -0.0052      0.015     -0.348      0.731      -0.036       0.026\n",
              "^NSEI-rf       0.9077      0.322      2.819      0.010       0.238       1.577\n",
              "==============================================================================\n",
              "Omnibus:                        0.698   Durbin-Watson:                   2.328\n",
              "Prob(Omnibus):                  0.705   Jarque-Bera (JB):                0.753\n",
              "Skew:                           0.295   Prob(JB):                        0.686\n",
              "Kurtosis:                       2.337   Cond. No.                         24.5\n",
              "==============================================================================\n",
              "\n",
              "Notes:\n",
              "[1] Standard Errors assume that the covariance matrix of the errors is correctly specified.\n",
              "\"\"\""
            ]
          },
          "execution_count": 18,
          "metadata": {},
          "output_type": "execute_result"
        }
      ],
      "source": [
        "results.summary()"
      ]
    },
    {
      "cell_type": "markdown",
      "metadata": {
        "id": "irzdvbKh4Kbc"
      },
      "source": [
        "**As the obtained p value is less than 0.05 we can assume this CAPM model to be a good fit BATAINDIA over NSE**"
      ]
    },
    {
      "cell_type": "code",
      "execution_count": null,
      "metadata": {
        "id": "Ki5x_DRs4Kbd"
      },
      "outputs": [],
      "source": [
        "#Performing the same for BERGEPAINT\n",
        "mtl_ret_BERGEPAINT_NSE['BERGEPAINT.NS-rf'], mtl_ret_BERGEPAINT_NSE['^NSEI-rf'] = mtl_ret_BERGEPAINT_NSE['BERGEPAINT.NS']- rf.values, mtl_ret_BERGEPAINT_NSE['^NSEI'] - rf.values"
      ]
    },
    {
      "cell_type": "code",
      "execution_count": null,
      "metadata": {
        "id": "2fhqFLVr4Kbd",
        "outputId": "0c6900bb-62d6-4258-fa89-cc74b8f0756f"
      },
      "outputs": [
        {
          "data": {
            "text/html": [
              "<div>\n",
              "<style scoped>\n",
              "    .dataframe tbody tr th:only-of-type {\n",
              "        vertical-align: middle;\n",
              "    }\n",
              "\n",
              "    .dataframe tbody tr th {\n",
              "        vertical-align: top;\n",
              "    }\n",
              "\n",
              "    .dataframe thead th {\n",
              "        text-align: right;\n",
              "    }\n",
              "</style>\n",
              "<table border=\"1\" class=\"dataframe\">\n",
              "  <thead>\n",
              "    <tr style=\"text-align: right;\">\n",
              "      <th>Symbols</th>\n",
              "      <th>BERGEPAINT.NS</th>\n",
              "      <th>^NSEI</th>\n",
              "      <th>BERGEPAINT.NS-rf</th>\n",
              "      <th>^NSEI-rf</th>\n",
              "    </tr>\n",
              "    <tr>\n",
              "      <th>Date</th>\n",
              "      <th></th>\n",
              "      <th></th>\n",
              "      <th></th>\n",
              "      <th></th>\n",
              "    </tr>\n",
              "  </thead>\n",
              "  <tbody>\n",
              "    <tr>\n",
              "      <th>2020-05-31</th>\n",
              "      <td>-0.032750</td>\n",
              "      <td>-0.028357</td>\n",
              "      <td>-0.042750</td>\n",
              "      <td>-0.038357</td>\n",
              "    </tr>\n",
              "    <tr>\n",
              "      <th>2020-06-30</th>\n",
              "      <td>0.004372</td>\n",
              "      <td>0.075342</td>\n",
              "      <td>-0.005628</td>\n",
              "      <td>0.065342</td>\n",
              "    </tr>\n",
              "    <tr>\n",
              "      <th>2020-07-31</th>\n",
              "      <td>0.066005</td>\n",
              "      <td>0.074873</td>\n",
              "      <td>0.056005</td>\n",
              "      <td>0.064873</td>\n",
              "    </tr>\n",
              "    <tr>\n",
              "      <th>2020-08-31</th>\n",
              "      <td>0.021273</td>\n",
              "      <td>0.028361</td>\n",
              "      <td>0.011273</td>\n",
              "      <td>0.018361</td>\n",
              "    </tr>\n",
              "    <tr>\n",
              "      <th>2020-09-30</th>\n",
              "      <td>0.086107</td>\n",
              "      <td>-0.012290</td>\n",
              "      <td>0.076107</td>\n",
              "      <td>-0.022290</td>\n",
              "    </tr>\n",
              "  </tbody>\n",
              "</table>\n",
              "</div>"
            ],
            "text/plain": [
              "Symbols     BERGEPAINT.NS     ^NSEI  BERGEPAINT.NS-rf  ^NSEI-rf\n",
              "Date                                                           \n",
              "2020-05-31      -0.032750 -0.028357         -0.042750 -0.038357\n",
              "2020-06-30       0.004372  0.075342         -0.005628  0.065342\n",
              "2020-07-31       0.066005  0.074873          0.056005  0.064873\n",
              "2020-08-31       0.021273  0.028361          0.011273  0.018361\n",
              "2020-09-30       0.086107 -0.012290          0.076107 -0.022290"
            ]
          },
          "execution_count": 20,
          "metadata": {},
          "output_type": "execute_result"
        }
      ],
      "source": [
        "mtl_ret_BERGEPAINT_NSE.head()"
      ]
    },
    {
      "cell_type": "code",
      "execution_count": null,
      "metadata": {
        "id": "XyVrsYjx4Kbd"
      },
      "outputs": [],
      "source": [
        "X2 = mtl_ret_BERGEPAINT_NSE['^NSEI-rf']\n",
        "y2 = mtl_ret_BERGEPAINT_NSE['BERGEPAINT.NS-rf']\n",
        "X2_sm = sm.add_constant(X2)"
      ]
    },
    {
      "cell_type": "code",
      "execution_count": null,
      "metadata": {
        "id": "dPFcuZH74Kbd"
      },
      "outputs": [],
      "source": [
        "model2 = sm.OLS(y2, X2_sm)"
      ]
    },
    {
      "cell_type": "code",
      "execution_count": null,
      "metadata": {
        "id": "J7eZhfan4Kbd",
        "outputId": "8deff6c3-1b8d-4716-b8b0-e2870d40cfa3"
      },
      "outputs": [
        {
          "data": {
            "text/html": [
              "<table class=\"simpletable\">\n",
              "<caption>OLS Regression Results</caption>\n",
              "<tr>\n",
              "  <th>Dep. Variable:</th>    <td>BERGEPAINT.NS-rf</td> <th>  R-squared:         </th> <td>   0.134</td>\n",
              "</tr>\n",
              "<tr>\n",
              "  <th>Model:</th>                   <td>OLS</td>       <th>  Adj. R-squared:    </th> <td>   0.093</td>\n",
              "</tr>\n",
              "<tr>\n",
              "  <th>Method:</th>             <td>Least Squares</td>  <th>  F-statistic:       </th> <td>   3.245</td>\n",
              "</tr>\n",
              "<tr>\n",
              "  <th>Date:</th>             <td>Mon, 22 Aug 2022</td> <th>  Prob (F-statistic):</th>  <td>0.0860</td> \n",
              "</tr>\n",
              "<tr>\n",
              "  <th>Time:</th>                 <td>14:53:09</td>     <th>  Log-Likelihood:    </th> <td>  30.942</td>\n",
              "</tr>\n",
              "<tr>\n",
              "  <th>No. Observations:</th>      <td>    23</td>      <th>  AIC:               </th> <td>  -57.88</td>\n",
              "</tr>\n",
              "<tr>\n",
              "  <th>Df Residuals:</th>          <td>    21</td>      <th>  BIC:               </th> <td>  -55.61</td>\n",
              "</tr>\n",
              "<tr>\n",
              "  <th>Df Model:</th>              <td>     1</td>      <th>                     </th>     <td> </td>   \n",
              "</tr>\n",
              "<tr>\n",
              "  <th>Covariance Type:</th>      <td>nonrobust</td>    <th>                     </th>     <td> </td>   \n",
              "</tr>\n",
              "</table>\n",
              "<table class=\"simpletable\">\n",
              "<tr>\n",
              "      <td></td>        <th>coef</th>     <th>std err</th>      <th>t</th>      <th>P>|t|</th>  <th>[0.025</th>    <th>0.975]</th>  \n",
              "</tr>\n",
              "<tr>\n",
              "  <th>const</th>    <td>   -0.0012</td> <td>    0.016</td> <td>   -0.078</td> <td> 0.938</td> <td>   -0.033</td> <td>    0.031</td>\n",
              "</tr>\n",
              "<tr>\n",
              "  <th>^NSEI-rf</th> <td>    0.6066</td> <td>    0.337</td> <td>    1.801</td> <td> 0.086</td> <td>   -0.094</td> <td>    1.307</td>\n",
              "</tr>\n",
              "</table>\n",
              "<table class=\"simpletable\">\n",
              "<tr>\n",
              "  <th>Omnibus:</th>       <td> 2.082</td> <th>  Durbin-Watson:     </th> <td>   2.680</td>\n",
              "</tr>\n",
              "<tr>\n",
              "  <th>Prob(Omnibus):</th> <td> 0.353</td> <th>  Jarque-Bera (JB):  </th> <td>   1.750</td>\n",
              "</tr>\n",
              "<tr>\n",
              "  <th>Skew:</th>          <td> 0.562</td> <th>  Prob(JB):          </th> <td>   0.417</td>\n",
              "</tr>\n",
              "<tr>\n",
              "  <th>Kurtosis:</th>      <td> 2.250</td> <th>  Cond. No.          </th> <td>    24.5</td>\n",
              "</tr>\n",
              "</table><br/><br/>Notes:<br/>[1] Standard Errors assume that the covariance matrix of the errors is correctly specified."
            ],
            "text/plain": [
              "<class 'statsmodels.iolib.summary.Summary'>\n",
              "\"\"\"\n",
              "                            OLS Regression Results                            \n",
              "==============================================================================\n",
              "Dep. Variable:       BERGEPAINT.NS-rf   R-squared:                       0.134\n",
              "Model:                            OLS   Adj. R-squared:                  0.093\n",
              "Method:                 Least Squares   F-statistic:                     3.245\n",
              "Date:                Mon, 22 Aug 2022   Prob (F-statistic):             0.0860\n",
              "Time:                        14:53:09   Log-Likelihood:                 30.942\n",
              "No. Observations:                  23   AIC:                            -57.88\n",
              "Df Residuals:                      21   BIC:                            -55.61\n",
              "Df Model:                           1                                         \n",
              "Covariance Type:            nonrobust                                         \n",
              "==============================================================================\n",
              "                 coef    std err          t      P>|t|      [0.025      0.975]\n",
              "------------------------------------------------------------------------------\n",
              "const         -0.0012      0.016     -0.078      0.938      -0.033       0.031\n",
              "^NSEI-rf       0.6066      0.337      1.801      0.086      -0.094       1.307\n",
              "==============================================================================\n",
              "Omnibus:                        2.082   Durbin-Watson:                   2.680\n",
              "Prob(Omnibus):                  0.353   Jarque-Bera (JB):                1.750\n",
              "Skew:                           0.562   Prob(JB):                        0.417\n",
              "Kurtosis:                       2.250   Cond. No.                         24.5\n",
              "==============================================================================\n",
              "\n",
              "Notes:\n",
              "[1] Standard Errors assume that the covariance matrix of the errors is correctly specified.\n",
              "\"\"\""
            ]
          },
          "execution_count": 23,
          "metadata": {},
          "output_type": "execute_result"
        }
      ],
      "source": [
        "results = model2.fit()\n",
        "results.summary()"
      ]
    },
    {
      "cell_type": "markdown",
      "metadata": {
        "id": "i1aZo6bx4Kbd"
      },
      "source": [
        "**Obtained P value is greater than 0.05 hence the model can't be assumed to be a good fit**"
      ]
    }
  ],
  "metadata": {
    "kernelspec": {
      "display_name": "Python 3.9.13 64-bit (windows store)",
      "language": "python",
      "name": "python3"
    },
    "language_info": {
      "codemirror_mode": {
        "name": "ipython",
        "version": 3
      },
      "file_extension": ".py",
      "mimetype": "text/x-python",
      "name": "python",
      "nbconvert_exporter": "python",
      "pygments_lexer": "ipython3",
      "version": "3.9.13"
    },
    "orig_nbformat": 4,
    "vscode": {
      "interpreter": {
        "hash": "7164489b48f2cadaed650af2413ba439b2ecd5229fd31b1f8894129dd1a31428"
      }
    },
    "colab": {
      "name": "BATAINDIA_BERGEPAINT_CAPM.ipynb",
      "provenance": []
    }
  },
  "nbformat": 4,
  "nbformat_minor": 0
}